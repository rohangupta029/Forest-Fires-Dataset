{
 "cells": [
  {
   "cell_type": "code",
   "execution_count": 4,
   "metadata": {},
   "outputs": [
    {
     "name": "stdout",
     "output_type": "stream",
     "text": [
      "(517, 13)\n",
      "90.64468085106384 18.88916827852998\n",
      "0.4539304053698023 -22.257208444809784\n"
     ]
    },
    {
     "data": {
      "image/png": "[encoded data removed]",
      "text/plain": [
       "<Figure size 432x288 with 1 Axes>"
      ]
     },
     "metadata": {
      "needs_background": "light"
     },
     "output_type": "display_data"
    },
    {
     "name": "stdout",
     "output_type": "stream",
     "text": [
      "Root Mean Square= 0.18622009071180234\n"
     ]
    }
   ],
   "source": [
    "%matplotlib inline\n",
    "import numpy as np\n",
    "import pandas as pd\n",
    "from matplotlib import pyplot as plt \n",
    "#Reading Data\n",
    "names = ['X', 'Y', 'month', 'day', 'FFMC', 'DMC', 'DC', 'ISI', 'TEMP','RH','WIND','RAIN','AREA']\n",
    "data=pd.read_csv(\"forestfires.csv\", names=names)\n",
    "print(data.shape)\n",
    "data.head()\n",
    "# Collecting X and Y\n",
    "X = data[\"FFMC\"].values\n",
    "Y = data[\"TEMP\"].values\n",
    "# Mean X and Y\n",
    "mean_x = np.mean(X)\n",
    "mean_y = np.mean(Y)\n",
    "print(mean_x, mean_y)\n",
    "\n",
    "#Total number of values\n",
    "n = len(X)\n",
    "\n",
    "#Using the formula to calculate b1 and b2\n",
    "num = 0\n",
    "den = 0\n",
    "for i in range(n):\n",
    "    num += (X[i]-mean_x)* (Y[i] - mean_y)\n",
    "    den += (X[i] -mean_x)**2\n",
    "m= num/den\n",
    "c= mean_y - (m * mean_x)\n",
    "\n",
    "#print coefficients and slope in y=mx+c\n",
    "print(m, c)\n",
    "# Plotting values and Regression Line\n",
    "\n",
    "max_x = np.max(X) + 100\n",
    "min_x = np.min(X) - 100\n",
    "\n",
    "# Calculating line values x and y\n",
    "\n",
    "x = np.linspace(min_x, max_x, 1000)\n",
    "y = c + m * x\n",
    "\n",
    "# Ploting Line \n",
    "\n",
    "plt.plot(x, y, color= \"#58b970\", label= \"Regression Line\")\n",
    "\n",
    "# Plotting Scatter Points\n",
    "\n",
    "plt.scatter(X, Y, color=\"#ef5423\", label= \"Scatter Plot\")\n",
    "\n",
    "plt.xlabel(\"FFMC\")\n",
    "plt.ylabel(\"TEMP\")\n",
    "plt.legend()\n",
    "plt.show()\n",
    "ss_t = 0\n",
    "ss_r = 0\n",
    "for i in range(n):\n",
    "    y_pred = c + m * X[i]\n",
    "    ss_t += (Y[i] - mean_y) ** 2\n",
    "    ss_r += (Y[i] - y_pred) ** 2\n",
    "r2 = 1 - (ss_r/ ss_t)\n",
    "print(\"Root Mean Square=\", r2)\n"
   ]
  },
  {
   "cell_type": "code",
   "execution_count": null,
   "metadata": {},
   "outputs": [],
   "source": []
  },
  {
   "cell_type": "code",
   "execution_count": null,
   "metadata": {},
   "outputs": [],
   "source": []
  }
 ],
 "metadata": {
  "kernelspec": {
   "display_name": "Python 3",
   "language": "python",
   "name": "python3"
  },
  "language_info": {
   "codemirror_mode": {
    "name": "ipython",
    "version": 3
   },
   "file_extension": ".py",
   "mimetype": "text/x-python",
   "name": "python",
   "nbconvert_exporter": "python",
   "pygments_lexer": "ipython3",
   "version": "3.7.6"
  }
 },
 "nbformat": 4,
 "nbformat_minor": 4
}
