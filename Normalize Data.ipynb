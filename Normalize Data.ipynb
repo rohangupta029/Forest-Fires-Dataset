{
 "cells": [
  {
   "cell_type": "code",
   "execution_count": 3,
   "metadata": {},
   "outputs": [
    {
     "name": "stdout",
     "output_type": "stream",
     "text": [
      "[[0.613 0.186 0.671 0.036 0.058 0.363 0.048 0.   ]\n",
      " [0.134 0.052 0.988 0.01  0.027 0.049 0.001 0.   ]\n",
      " [0.13  0.063 0.988 0.01  0.021 0.047 0.002 0.   ]\n",
      " [0.579 0.21  0.489 0.057 0.052 0.612 0.025 0.001]\n",
      " [0.507 0.291 0.58  0.054 0.065 0.562 0.01  0.   ]\n",
      " [0.183 0.169 0.965 0.029 0.044 0.057 0.011 0.   ]\n",
      " [0.18  0.173 0.966 0.017 0.047 0.053 0.006 0.   ]\n",
      " [0.143 0.228 0.953 0.017 0.013 0.135 0.003 0.   ]\n",
      " [0.128 0.182 0.971 0.01  0.018 0.088 0.008 0.   ]\n",
      " [0.13  0.124 0.982 0.01  0.032 0.056 0.006 0.   ]\n",
      " [0.13  0.124 0.981 0.01  0.025 0.072 0.01  0.   ]\n",
      " [0.128 0.101 0.984 0.031 0.027 0.052 0.006 0.   ]]\n",
      "   X  Y month  day  FFMC    DMC     DC   ISI  TEMP  RH  WIND  RAIN  AREA\n",
      "0  7  5   mar  fri  86.2   26.2   94.3   5.1   8.2  51   6.7   0.0   0.0\n",
      "1  7  4   oct  tue  90.6   35.4  669.1   6.7  18.0  33   0.9   0.0   0.0\n",
      "2  7  4   oct  sat  90.6   43.7  686.9   6.7  14.6  33   1.3   0.0   0.0\n",
      "3  8  6   mar  fri  91.7   33.3   77.5   9.0   8.3  97   4.0   0.2   0.0\n",
      "4  8  6   mar  sun  89.3   51.3  102.2   9.6  11.4  99   1.8   0.0   0.0\n",
      "5  8  6   aug  sun  92.3   85.3  488.0  14.7  22.2  29   5.4   0.0   0.0\n",
      "6  8  6   aug  mon  92.3   88.9  495.6   8.5  24.1  27   3.1   0.0   0.0\n",
      "7  8  6   aug  mon  91.5  145.4  608.2  10.7   8.0  86   2.2   0.0   0.0\n",
      "8  8  6   sep  tue  91.0  129.5  692.6   7.0  13.1  63   5.4   0.0   0.0\n",
      "9  7  5   sep  sat  92.5   88.0  698.6   7.1  22.8  40   4.0   0.0   0.0\n"
     ]
    }
   ],
   "source": [
    "# Normalize data (length of 1)\n",
    "from sklearn.preprocessing import Normalizer\n",
    "import pandas\n",
    "import numpy\n",
    "names = ['X', 'Y', 'month', 'day', 'FFMC', 'DMC', 'DC', 'ISI', 'TEMP','RH','WIND','RAIN','AREA']\n",
    "dataframe = pandas.read_csv(\"forestfires.csv\", names=names)\n",
    "array = dataframe.values\n",
    "# separate array into input and output components\n",
    "X = array[:,4:12]\n",
    "Y = array[:,12]\n",
    "scaler = Normalizer().fit(X)\n",
    "normalizedX = scaler.transform(X)\n",
    "# summarize transformed data\n",
    "numpy.set_printoptions(precision=3)\n",
    "print(normalizedX[0:12,:])\n",
    "print(dataframe.head(10))\n"
   ]
  },
  {
   "cell_type": "code",
   "execution_count": null,
   "metadata": {},
   "outputs": [],
   "source": []
  }
 ],
 "metadata": {
  "kernelspec": {
   "display_name": "Python 3",
   "language": "python",
   "name": "python3"
  },
  "language_info": {
   "codemirror_mode": {
    "name": "ipython",
    "version": 3
   },
   "file_extension": ".py",
   "mimetype": "text/x-python",
   "name": "python",
   "nbconvert_exporter": "python",
   "pygments_lexer": "ipython3",
   "version": "3.7.6"
  }
 },
 "nbformat": 4,
 "nbformat_minor": 4
}
