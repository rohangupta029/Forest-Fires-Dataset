{
 "cells": [
  {
   "cell_type": "code",
   "execution_count": 2,
   "metadata": {},
   "outputs": [
    {
     "name": "stdout",
     "output_type": "stream",
     "text": [
      "[[-0.806 -1.323 -1.83  -0.861 -1.843  0.412  1.499 -0.073]\n",
      " [-0.008 -1.18   0.489 -0.51  -0.153 -0.692 -1.742 -0.073]\n",
      " [-0.008 -1.05   0.561 -0.51  -0.739 -0.692 -1.518 -0.073]\n",
      " [ 0.191 -1.212 -1.898 -0.005 -1.825  3.234 -0.01   0.603]\n",
      " [-0.244 -0.931 -1.799  0.127 -1.291  3.356 -1.239 -0.073]\n",
      " [ 0.3   -0.4   -0.242  1.247  0.571 -0.938  0.772 -0.073]\n",
      " [ 0.3   -0.343 -0.211 -0.115  0.898 -1.061 -0.513 -0.073]\n",
      " [ 0.155  0.54   0.243  0.368 -1.877  2.559 -1.015 -0.073]\n",
      " [ 0.064  0.291  0.584 -0.444 -0.998  1.148  0.772 -0.073]\n",
      " [ 0.336 -0.357  0.608 -0.422  0.674 -0.263 -0.01  -0.073]\n",
      " [ 0.336 -0.357  0.608 -0.422 -0.188  0.412  1.778 -0.073]\n",
      " [ 0.391 -0.589  0.666  2.981  0.071 -0.386 -0.01  -0.073]]\n"
     ]
    }
   ],
   "source": [
    "# Standardize data (0 mean, 1 stdev)\n",
    "from sklearn.preprocessing import StandardScaler\n",
    "import pandas\n",
    "import numpy\n",
    "names = ['X', 'Y', 'month', 'day', 'FFMC', 'DMC', 'DC', 'ISI', 'TEMP','RH','WIND','RAIN','AREA']\n",
    "dataframe = pandas.read_csv(\"forestfires.csv\", names=names)\n",
    "array = dataframe.values\n",
    "# separate array into input and output components\n",
    "X = array[:,4:12]\n",
    "Y = array[:,12]\n",
    "scaler = StandardScaler().fit(X)\n",
    "rescaledX = scaler.transform(X)\n",
    "# summarize transformed data\n",
    "numpy.set_printoptions(precision=3)\n",
    "print(rescaledX[0:12,:])\n"
   ]
  },
  {
   "cell_type": "code",
   "execution_count": null,
   "metadata": {},
   "outputs": [],
   "source": []
  }
 ],
 "metadata": {
  "kernelspec": {
   "display_name": "Python 3",
   "language": "python",
   "name": "python3"
  },
  "language_info": {
   "codemirror_mode": {
    "name": "ipython",
    "version": 3
   },
   "file_extension": ".py",
   "mimetype": "text/x-python",
   "name": "python",
   "nbconvert_exporter": "python",
   "pygments_lexer": "ipython3",
   "version": "3.7.6"
  }
 },
 "nbformat": 4,
 "nbformat_minor": 4
}
